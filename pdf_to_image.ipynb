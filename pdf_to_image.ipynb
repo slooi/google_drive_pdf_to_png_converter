{
  "nbformat": 4,
  "nbformat_minor": 0,
  "metadata": {
    "colab": {
      "provenance": []
    },
    "kernelspec": {
      "name": "python3",
      "display_name": "Python 3"
    },
    "language_info": {
      "name": "python"
    }
  },
  "cells": [
    {
      "cell_type": "code",
      "source": [
        "from google.colab import drive\n",
        "drive.mount('/content/drive')"
      ],
      "metadata": {
        "id": "7TUUPu8_o1-s"
      },
      "execution_count": null,
      "outputs": []
    },
    {
      "cell_type": "code",
      "source": [
        "!sudo apt update\n",
        "!sudo apt install poppler-utils\n",
        "!pip install pdf2image\n",
        "!pip install pillow"
      ],
      "metadata": {
        "id": "fau1rH-Zo3zr"
      },
      "execution_count": null,
      "outputs": []
    },
    {
      "cell_type": "code",
      "source": [
        "from pdf2image import convert_from_path, convert_from_bytes\n",
        "from pdf2image.exceptions import (\n",
        "    PDFInfoNotInstalledError,\n",
        "    PDFPageCountError,\n",
        "    PDFSyntaxError\n",
        ")"
      ],
      "metadata": {
        "id": "bAZiMGDNo5Jb"
      },
      "execution_count": 3,
      "outputs": []
    },
    {
      "cell_type": "code",
      "source": [
        "!ls drive/MyDrive | grep \"the\""
      ],
      "metadata": {
        "id": "v5c1WOrco7os"
      },
      "execution_count": 4,
      "outputs": []
    },
    {
      "cell_type": "code",
      "source": [
        "images = convert_from_path('./drive/MyDrive/howtodrawscott.pdf')\n",
        "images"
      ],
      "metadata": {
        "id": "Jb-VR65TrCou"
      },
      "execution_count": null,
      "outputs": []
    },
    {
      "cell_type": "code",
      "source": [
        "import io\n",
        "import zipfile\n",
        "zip_buffer = io.BytesIO()\n",
        "\n",
        "# Create a ZipFile object with write mode\n",
        "with zipfile.ZipFile(zip_buffer, 'w') as zip_file:\n",
        "    # Iterate through the list of images\n",
        "    for i, img in enumerate(images):\n",
        "        # Convert the PIL image to bytes\n",
        "        img_bytes = io.BytesIO()\n",
        "        img.save(img_bytes, format='PNG')  # You can change the format if needed\n",
        "\n",
        "        # Add the image bytes to the zip file\n",
        "        zip_file.writestr(f\"image_{i}.png\", img_bytes.getvalue())\n",
        "        print(f\"Image saved: {i}/{len(images)}\")\n",
        "\n",
        "# Save the zip file to disk\n",
        "with open(\"images.zip\", \"wb\") as f:\n",
        "    f.write(zip_buffer.getvalue())\n",
        "\n",
        "print(\"Zip file created successfully.\")"
      ],
      "metadata": {
        "id": "PS2oCsrxtyqE"
      },
      "execution_count": null,
      "outputs": []
    },
    {
      "cell_type": "code",
      "source": [
        "#!cp images.zip ./drive/MyDrive/howtodrawscott.zip"
      ],
      "metadata": {
        "id": "w8emDEcjs5wU"
      },
      "execution_count": 7,
      "outputs": []
    }
  ]
}